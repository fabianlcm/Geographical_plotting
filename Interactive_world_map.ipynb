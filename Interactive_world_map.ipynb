{
 "cells": [
  {
   "cell_type": "code",
   "execution_count": 13,
   "metadata": {},
   "outputs": [
    {
     "data": {
      "text/html": [
       "<script type=\"text/javascript\">window.PlotlyConfig = {MathJaxConfig: 'local'};</script><script type=\"text/javascript\">if (window.MathJax) {MathJax.Hub.Config({SVG: {font: \"STIX-Web\"}});}</script><script>requirejs.config({paths: { 'plotly': ['https://cdn.plot.ly/plotly-latest.min']},});if(!window._Plotly) {require(['plotly'],function(plotly) {window._Plotly=plotly;});}</script>"
      ],
      "text/vnd.plotly.v1+html": [
       "<script type=\"text/javascript\">window.PlotlyConfig = {MathJaxConfig: 'local'};</script><script type=\"text/javascript\">if (window.MathJax) {MathJax.Hub.Config({SVG: {font: \"STIX-Web\"}});}</script><script>requirejs.config({paths: { 'plotly': ['https://cdn.plot.ly/plotly-latest.min']},});if(!window._Plotly) {require(['plotly'],function(plotly) {window._Plotly=plotly;});}</script>"
      ]
     },
     "metadata": {},
     "output_type": "display_data"
    }
   ],
   "source": [
    "import plotly.graph_objs as go\n",
    "from plotly.offline import init_notebook_mode, iplot\n",
    "init_notebook_mode(connected=True)"
   ]
  },
  {
   "cell_type": "code",
   "execution_count": 14,
   "metadata": {},
   "outputs": [],
   "source": [
    "# function of an orthographic-type map\n",
    "def orthographicMap(my_countries, my_title, my_colors):\n",
    "    map_data = dict(type = 'choropleth',\n",
    "                locations = my_countries,\n",
    "                locationmode = 'country names',\n",
    "                z = [1 for country in my_countries],\n",
    "                colorbar = {'title': '{}'.format(my_title)},\n",
    "                colorscale=[[0, '{}'.format(my_colors[0])], [1, '{}'.format(my_colors[1])]])\n",
    "    map_layout = dict(title = '{}'.format(my_title), geo = dict(showframe = True, projection = {'type': 'orthographic'}))\n",
    "    \n",
    "    my_map = go.Figure(data = [map_data], \n",
    "                       layout = map_layout)\n",
    "    \n",
    "    iplot(my_map)"
   ]
  },
  {
   "cell_type": "code",
   "execution_count": 15,
   "metadata": {},
   "outputs": [],
   "source": [
    "# list of countries\n",
    "my_countries = ['Colombia', 'Venezuela', 'Mexico', 'United States', \n",
    "                'The Bahamas', 'United Kingdom', 'Belgium', 'Spain', \n",
    "                'China', 'France', 'Germany', 'Turkey']\n",
    "\n",
    "# title of the map\n",
    "my_title = 'My list of visited countries'\n",
    "\n",
    "# colors in rgb format \n",
    "my_colors = ['rgb(255, 255, 255)', 'rgb(250, 0, 0)']"
   ]
  },
  {
   "cell_type": "code",
   "execution_count": 16,
   "metadata": {},
   "outputs": [
    {
     "data": {
      "application/vnd.plotly.v1+json": {
       "config": {
        "linkText": "Export to plot.ly",
        "plotlyServerURL": "https://plot.ly",
        "showLink": true
       },
       "data": [
        {
         "colorbar": {
          "title": "My list of visited countries"
         },
         "colorscale": [
          [
           0,
           "rgb(255, 255, 255)"
          ],
          [
           1,
           "rgb(250, 0, 0)"
          ]
         ],
         "locationmode": "country names",
         "locations": [
          "Colombia",
          "Venezuela",
          "Mexico",
          "United States",
          "The Bahamas",
          "United Kingdom",
          "Belgium",
          "Spain",
          "China",
          "France",
          "Germany",
          "Turkey"
         ],
         "type": "choropleth",
         "uid": "53f928ff-d344-4a9b-8d91-5deea3094c96",
         "z": [
          1,
          1,
          1,
          1,
          1,
          1,
          1,
          1,
          1,
          1,
          1,
          1
         ]
        }
       ],
       "layout": {
        "geo": {
         "projection": {
          "type": "orthographic"
         },
         "showframe": true
        },
        "title": "My list of visited countries"
       }
      },
      "text/html": [
       "<div id=\"94c002be-718d-484b-b366-6800215d0eb6\" style=\"height: 525px; width: 100%;\" class=\"plotly-graph-div\"></div><script type=\"text/javascript\">require([\"plotly\"], function(Plotly) { window.PLOTLYENV=window.PLOTLYENV || {};window.PLOTLYENV.BASE_URL=\"https://plot.ly\";Plotly.newPlot(\"94c002be-718d-484b-b366-6800215d0eb6\", [{\"colorbar\": {\"title\": \"My list of visited countries\"}, \"colorscale\": [[0, \"rgb(255, 255, 255)\"], [1, \"rgb(250, 0, 0)\"]], \"locationmode\": \"country names\", \"locations\": [\"Colombia\", \"Venezuela\", \"Mexico\", \"United States\", \"The Bahamas\", \"United Kingdom\", \"Belgium\", \"Spain\", \"China\", \"France\", \"Germany\", \"Turkey\"], \"z\": [1, 1, 1, 1, 1, 1, 1, 1, 1, 1, 1, 1], \"type\": \"choropleth\", \"uid\": \"53f928ff-d344-4a9b-8d91-5deea3094c96\"}], {\"geo\": {\"projection\": {\"type\": \"orthographic\"}, \"showframe\": true}, \"title\": \"My list of visited countries\"}, {\"showLink\": true, \"linkText\": \"Export to plot.ly\", \"plotlyServerURL\": \"https://plot.ly\"})});</script><script type=\"text/javascript\">window.addEventListener(\"resize\", function(){window._Plotly.Plots.resize(document.getElementById(\"94c002be-718d-484b-b366-6800215d0eb6\"));});</script>"
      ],
      "text/vnd.plotly.v1+html": [
       "<div id=\"94c002be-718d-484b-b366-6800215d0eb6\" style=\"height: 525px; width: 100%;\" class=\"plotly-graph-div\"></div><script type=\"text/javascript\">require([\"plotly\"], function(Plotly) { window.PLOTLYENV=window.PLOTLYENV || {};window.PLOTLYENV.BASE_URL=\"https://plot.ly\";Plotly.newPlot(\"94c002be-718d-484b-b366-6800215d0eb6\", [{\"colorbar\": {\"title\": \"My list of visited countries\"}, \"colorscale\": [[0, \"rgb(255, 255, 255)\"], [1, \"rgb(250, 0, 0)\"]], \"locationmode\": \"country names\", \"locations\": [\"Colombia\", \"Venezuela\", \"Mexico\", \"United States\", \"The Bahamas\", \"United Kingdom\", \"Belgium\", \"Spain\", \"China\", \"France\", \"Germany\", \"Turkey\"], \"z\": [1, 1, 1, 1, 1, 1, 1, 1, 1, 1, 1, 1], \"type\": \"choropleth\", \"uid\": \"53f928ff-d344-4a9b-8d91-5deea3094c96\"}], {\"geo\": {\"projection\": {\"type\": \"orthographic\"}, \"showframe\": true}, \"title\": \"My list of visited countries\"}, {\"showLink\": true, \"linkText\": \"Export to plot.ly\", \"plotlyServerURL\": \"https://plot.ly\"})});</script><script type=\"text/javascript\">window.addEventListener(\"resize\", function(){window._Plotly.Plots.resize(document.getElementById(\"94c002be-718d-484b-b366-6800215d0eb6\"));});</script>"
      ]
     },
     "metadata": {},
     "output_type": "display_data"
    }
   ],
   "source": [
    "orthographicMap(my_countries, my_title, my_colors)"
   ]
  },
  {
   "cell_type": "code",
   "execution_count": null,
   "metadata": {},
   "outputs": [],
   "source": []
  }
 ],
 "metadata": {
  "kernelspec": {
   "display_name": "Python 3",
   "language": "python",
   "name": "python3"
  },
  "language_info": {
   "codemirror_mode": {
    "name": "ipython",
    "version": 3
   },
   "file_extension": ".py",
   "mimetype": "text/x-python",
   "name": "python",
   "nbconvert_exporter": "python",
   "pygments_lexer": "ipython3",
   "version": "3.7.0"
  }
 },
 "nbformat": 4,
 "nbformat_minor": 2
}
